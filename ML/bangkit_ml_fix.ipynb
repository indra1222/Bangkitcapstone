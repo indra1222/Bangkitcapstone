{
  "nbformat": 4,
  "nbformat_minor": 0,
  "metadata": {
    "colab": {
      "provenance": []
    },
    "kernelspec": {
      "name": "python3",
      "display_name": "Python 3"
    },
    "language_info": {
      "name": "python"
    }
  },
  "cells": [
    {
      "cell_type": "code",
      "execution_count": 5,
      "metadata": {
        "id": "PEdP3gqF4uTQ"
      },
      "outputs": [],
      "source": [
        "import pandas as pd\n",
        "import tensorflow as tf\n",
        "import matplotlib.pyplot as plt\n",
        "import folium\n",
        "from geopy.geocoders import Nominatim\n",
        "from sklearn.model_selection import train_test_split\n",
        "from sklearn.preprocessing import LabelEncoder, StandardScaler"
      ]
    },
    {
      "cell_type": "code",
      "source": [
        "# Membaca dataset dari folder /mnt\n",
        "file_path = \"./dataset_review_tukang.xlsx\"  # Pastikan file dataset sudah ada di Google Colab\n",
        "df = pd.read_excel(file_path)\n"
      ],
      "metadata": {
        "id": "EZWDd5ZL48K7"
      },
      "execution_count": 6,
      "outputs": []
    },
    {
      "cell_type": "code",
      "source": [
        "# Menampilkan dataset untuk memastikan data terload\n",
        "print(\"Dataset Loaded:\")\n",
        "print(df.head())"
      ],
      "metadata": {
        "colab": {
          "base_uri": "https://localhost:8080/"
        },
        "id": "QxjRppx44-v8",
        "outputId": "16b1f56d-50c9-4b92-e3f1-5f01e4e7f80d"
      },
      "execution_count": 7,
      "outputs": [
        {
          "output_type": "stream",
          "name": "stdout",
          "text": [
            "Dataset Loaded:\n",
            "  Lokasi_Pengguna           Kebutuhan  Umur_Pengguna JenisKelamin_Pengguna  \\\n",
            "0           Medan  Pengecatan Dinding             55             Perempuan   \n",
            "1           Garut   Instalasi Listrik             42             Perempuan   \n",
            "2        Makassar  Pengecatan Dinding             35             Laki-laki   \n",
            "3        Surabaya           Pasang AC             36             Perempuan   \n",
            "4      Yogyakarta  Pengecatan Dinding             49             Perempuan   \n",
            "\n",
            "   Rate                 Review Nama_Tukang Spesialis Lokasi_Tukang  \\\n",
            "0     2        Cepat dan ramah        Andi  Sanitasi      Makassar   \n",
            "1     2        Hasil memuaskan         Eka  Sanitasi      Surabaya   \n",
            "2     1        Hasil memuaskan        Budi       Cat    Yogyakarta   \n",
            "3     2        Cepat dan ramah        Budi  Renovasi      Semarang   \n",
            "4     1  Sangat cepat dan rapi        Rini  Sanitasi         Medan   \n",
            "\n",
            "  JenisKelamin_Tukang  \n",
            "0           Perempuan  \n",
            "1           Perempuan  \n",
            "2           Laki-laki  \n",
            "3           Laki-laki  \n",
            "4           Laki-laki  \n"
          ]
        }
      ]
    },
    {
      "cell_type": "code",
      "source": [
        "# Inisialisasi geolocator\n",
        "geolocator = Nominatim(user_agent=\"tukang_locator\")"
      ],
      "metadata": {
        "id": "ZpVXAH6z5Iop"
      },
      "execution_count": 8,
      "outputs": []
    },
    {
      "cell_type": "code",
      "source": [
        "# Fungsi untuk mendapatkan koordinat berdasarkan nama lokasi\n",
        "def get_coordinates(location_name):\n",
        "    location = geolocator.geocode(location_name)\n",
        "    if location:\n",
        "        return location.latitude, location.longitude\n",
        "    else:\n",
        "        return None, None  # Jika tidak ditemukan"
      ],
      "metadata": {
        "id": "WMgVxWLI5M5k"
      },
      "execution_count": 9,
      "outputs": []
    },
    {
      "cell_type": "code",
      "source": [
        "# Menambahkan Latitude dan Longitude berdasarkan nama lokasi\n",
        "df['Latitude'], df['Longitude'] = zip(*df['Lokasi_Tukang'].apply(lambda loc: get_coordinates(loc)))"
      ],
      "metadata": {
        "colab": {
          "base_uri": "https://localhost:8080/"
        },
        "id": "IwmZT9x45QRn",
        "outputId": "793deaa5-47df-4abb-b4c3-f00c33d39b5a"
      },
      "execution_count": 10,
      "outputs": [
        {
          "output_type": "stream",
          "name": "stderr",
          "text": [
            "WARNING:urllib3.connectionpool:Retrying (Retry(total=1, connect=None, read=None, redirect=None, status=None)) after connection broken by 'ReadTimeoutError(\"HTTPSConnectionPool(host='nominatim.openstreetmap.org', port=443): Read timed out. (read timeout=1)\")': /search?q=Yogyakarta&format=json&limit=1\n"
          ]
        }
      ]
    },
    {
      "cell_type": "code",
      "source": [
        "# Menampilkan dataset yang telah diperbarui\n",
        "print(\"\\nDataset dengan Latitude dan Longitude:\")\n",
        "print(df[['Nama_Tukang', 'Lokasi_Tukang', 'Latitude', 'Longitude']].head())"
      ],
      "metadata": {
        "colab": {
          "base_uri": "https://localhost:8080/"
        },
        "id": "SCeRd1uy5VGq",
        "outputId": "7c4364ab-798c-4191-851f-3a6625485e0a"
      },
      "execution_count": 11,
      "outputs": [
        {
          "output_type": "stream",
          "name": "stdout",
          "text": [
            "\n",
            "Dataset dengan Latitude dan Longitude:\n",
            "  Nama_Tukang Lokasi_Tukang  Latitude   Longitude\n",
            "0        Andi      Makassar -5.134296  119.412428\n",
            "1         Eka      Surabaya -7.245972  112.737827\n",
            "2        Budi    Yogyakarta -7.977838  110.367226\n",
            "3        Budi      Semarang -6.990399  110.422910\n",
            "4        Rini         Medan  3.589665   98.673826\n"
          ]
        }
      ]
    },
    {
      "cell_type": "code",
      "source": [
        "# Preprocessing Data\n",
        "# Encoding kolom kategorikal menjadi numerik\n",
        "label_encoders = {}\n",
        "for col in [\"Spesialis\", \"Lokasi_Tukang\", \"JenisKelamin_Tukang\"]:\n",
        "    le = LabelEncoder()\n",
        "    df[col] = le.fit_transform(df[col])\n",
        "    label_encoders[col] = le\n"
      ],
      "metadata": {
        "id": "3anin5dZ5iJy"
      },
      "execution_count": 12,
      "outputs": []
    },
    {
      "cell_type": "code",
      "source": [
        "# Fitur dan Target\n",
        "X = df[[\"Spesialis\", \"Lokasi_Tukang\", \"JenisKelamin_Tukang\"]]\n",
        "y = df[\"Rate\"]"
      ],
      "metadata": {
        "id": "RSjBtSvl5jKj"
      },
      "execution_count": 13,
      "outputs": []
    },
    {
      "cell_type": "code",
      "source": [
        "# Normalisasi fitur\n",
        "scaler = StandardScaler()\n",
        "X = scaler.fit_transform(X)"
      ],
      "metadata": {
        "id": "fYJeypzd5m_W"
      },
      "execution_count": 14,
      "outputs": []
    },
    {
      "cell_type": "code",
      "source": [
        "# Split dataset menjadi data latih dan data uji\n",
        "X_train, X_test, y_train, y_test = train_test_split(X, y, test_size=0.2, random_state=42)"
      ],
      "metadata": {
        "id": "mNW0Z61g5seE"
      },
      "execution_count": 15,
      "outputs": []
    },
    {
      "cell_type": "code",
      "source": [
        "# Membangun Model TensorFlow\n",
        "model = tf.keras.Sequential([\n",
        "    tf.keras.layers.Dense(32, activation='relu', input_shape=(X_train.shape[1],)),\n",
        "    tf.keras.layers.Dense(16, activation='relu'),\n",
        "    tf.keras.layers.Dense(1)  # Output: Rate (angka)\n",
        "])"
      ],
      "metadata": {
        "colab": {
          "base_uri": "https://localhost:8080/"
        },
        "id": "lXp3_EOj5wSx",
        "outputId": "802d6743-aaba-41cb-c664-7e4ad0f4a07f"
      },
      "execution_count": 16,
      "outputs": [
        {
          "output_type": "stream",
          "name": "stderr",
          "text": [
            "/usr/local/lib/python3.10/dist-packages/keras/src/layers/core/dense.py:87: UserWarning: Do not pass an `input_shape`/`input_dim` argument to a layer. When using Sequential models, prefer using an `Input(shape)` object as the first layer in the model instead.\n",
            "  super().__init__(activity_regularizer=activity_regularizer, **kwargs)\n"
          ]
        }
      ]
    },
    {
      "cell_type": "code",
      "source": [
        "# Compile Model\n",
        "model.compile(optimizer='adam', loss='mse', metrics=['mae'])\n",
        "\n",
        "# Melatih Model\n",
        "history = model.fit(X_train, y_train, epochs=50, validation_split=0.2, verbose=1)\n",
        "\n",
        "# Evaluasi Model\n",
        "loss, mae = model.evaluate(X_test, y_test, verbose=1)\n",
        "print(f\"\\nMean Absolute Error (MAE) pada data uji: {mae}\")\n"
      ],
      "metadata": {
        "colab": {
          "base_uri": "https://localhost:8080/"
        },
        "id": "rt9CKpuw5zHx",
        "outputId": "182c4d48-37a0-4ce0-c9d3-e740c0583555"
      },
      "execution_count": 17,
      "outputs": [
        {
          "output_type": "stream",
          "name": "stdout",
          "text": [
            "Epoch 1/50\n",
            "\u001b[1m2/2\u001b[0m \u001b[32m━━━━━━━━━━━━━━━━━━━━\u001b[0m\u001b[37m\u001b[0m \u001b[1m2s\u001b[0m 302ms/step - loss: 12.5049 - mae: 3.2526 - val_loss: 9.1852 - val_mae: 2.7398\n",
            "Epoch 2/50\n",
            "\u001b[1m2/2\u001b[0m \u001b[32m━━━━━━━━━━━━━━━━━━━━\u001b[0m\u001b[37m\u001b[0m \u001b[1m0s\u001b[0m 63ms/step - loss: 12.8419 - mae: 3.3025 - val_loss: 8.9265 - val_mae: 2.6918\n",
            "Epoch 3/50\n",
            "\u001b[1m2/2\u001b[0m \u001b[32m━━━━━━━━━━━━━━━━━━━━\u001b[0m\u001b[37m\u001b[0m \u001b[1m0s\u001b[0m 42ms/step - loss: 12.4593 - mae: 3.2518 - val_loss: 8.6747 - val_mae: 2.6439\n",
            "Epoch 4/50\n",
            "\u001b[1m2/2\u001b[0m \u001b[32m━━━━━━━━━━━━━━━━━━━━\u001b[0m\u001b[37m\u001b[0m \u001b[1m0s\u001b[0m 50ms/step - loss: 11.8624 - mae: 3.1567 - val_loss: 8.4285 - val_mae: 2.5963\n",
            "Epoch 5/50\n",
            "\u001b[1m2/2\u001b[0m \u001b[32m━━━━━━━━━━━━━━━━━━━━\u001b[0m\u001b[37m\u001b[0m \u001b[1m0s\u001b[0m 50ms/step - loss: 11.6365 - mae: 3.1386 - val_loss: 8.1920 - val_mae: 2.5495\n",
            "Epoch 6/50\n",
            "\u001b[1m2/2\u001b[0m \u001b[32m━━━━━━━━━━━━━━━━━━━━\u001b[0m\u001b[37m\u001b[0m \u001b[1m0s\u001b[0m 35ms/step - loss: 11.6216 - mae: 3.1253 - val_loss: 7.9587 - val_mae: 2.5024\n",
            "Epoch 7/50\n",
            "\u001b[1m2/2\u001b[0m \u001b[32m━━━━━━━━━━━━━━━━━━━━\u001b[0m\u001b[37m\u001b[0m \u001b[1m0s\u001b[0m 33ms/step - loss: 11.5776 - mae: 3.1251 - val_loss: 7.7296 - val_mae: 2.4555\n",
            "Epoch 8/50\n",
            "\u001b[1m2/2\u001b[0m \u001b[32m━━━━━━━━━━━━━━━━━━━━\u001b[0m\u001b[37m\u001b[0m \u001b[1m0s\u001b[0m 30ms/step - loss: 10.8902 - mae: 2.9933 - val_loss: 7.5059 - val_mae: 2.4091\n",
            "Epoch 9/50\n",
            "\u001b[1m2/2\u001b[0m \u001b[32m━━━━━━━━━━━━━━━━━━━━\u001b[0m\u001b[37m\u001b[0m \u001b[1m0s\u001b[0m 31ms/step - loss: 10.9155 - mae: 3.0234 - val_loss: 7.2855 - val_mae: 2.3627\n",
            "Epoch 10/50\n",
            "\u001b[1m2/2\u001b[0m \u001b[32m━━━━━━━━━━━━━━━━━━━━\u001b[0m\u001b[37m\u001b[0m \u001b[1m0s\u001b[0m 31ms/step - loss: 10.2517 - mae: 2.8988 - val_loss: 7.0717 - val_mae: 2.3165\n",
            "Epoch 11/50\n",
            "\u001b[1m2/2\u001b[0m \u001b[32m━━━━━━━━━━━━━━━━━━━━\u001b[0m\u001b[37m\u001b[0m \u001b[1m0s\u001b[0m 33ms/step - loss: 10.0115 - mae: 2.8510 - val_loss: 6.8619 - val_mae: 2.2703\n",
            "Epoch 12/50\n",
            "\u001b[1m2/2\u001b[0m \u001b[32m━━━━━━━━━━━━━━━━━━━━\u001b[0m\u001b[37m\u001b[0m \u001b[1m0s\u001b[0m 31ms/step - loss: 9.9836 - mae: 2.8529 - val_loss: 6.6558 - val_mae: 2.2235\n",
            "Epoch 13/50\n",
            "\u001b[1m2/2\u001b[0m \u001b[32m━━━━━━━━━━━━━━━━━━━━\u001b[0m\u001b[37m\u001b[0m \u001b[1m0s\u001b[0m 32ms/step - loss: 9.8395 - mae: 2.7989 - val_loss: 6.4599 - val_mae: 2.1775\n",
            "Epoch 14/50\n",
            "\u001b[1m2/2\u001b[0m \u001b[32m━━━━━━━━━━━━━━━━━━━━\u001b[0m\u001b[37m\u001b[0m \u001b[1m0s\u001b[0m 36ms/step - loss: 9.6734 - mae: 2.7692 - val_loss: 6.2704 - val_mae: 2.1319\n",
            "Epoch 15/50\n",
            "\u001b[1m2/2\u001b[0m \u001b[32m━━━━━━━━━━━━━━━━━━━━\u001b[0m\u001b[37m\u001b[0m \u001b[1m0s\u001b[0m 31ms/step - loss: 8.9654 - mae: 2.6674 - val_loss: 6.0843 - val_mae: 2.0861\n",
            "Epoch 16/50\n",
            "\u001b[1m2/2\u001b[0m \u001b[32m━━━━━━━━━━━━━━━━━━━━\u001b[0m\u001b[37m\u001b[0m \u001b[1m0s\u001b[0m 34ms/step - loss: 9.1636 - mae: 2.6982 - val_loss: 5.9005 - val_mae: 2.0400\n",
            "Epoch 17/50\n",
            "\u001b[1m2/2\u001b[0m \u001b[32m━━━━━━━━━━━━━━━━━━━━\u001b[0m\u001b[37m\u001b[0m \u001b[1m0s\u001b[0m 57ms/step - loss: 8.8954 - mae: 2.6553 - val_loss: 5.7190 - val_mae: 1.9937\n",
            "Epoch 18/50\n",
            "\u001b[1m2/2\u001b[0m \u001b[32m━━━━━━━━━━━━━━━━━━━━\u001b[0m\u001b[37m\u001b[0m \u001b[1m0s\u001b[0m 31ms/step - loss: 8.5036 - mae: 2.5880 - val_loss: 5.5404 - val_mae: 1.9472\n",
            "Epoch 19/50\n",
            "\u001b[1m2/2\u001b[0m \u001b[32m━━━━━━━━━━━━━━━━━━━━\u001b[0m\u001b[37m\u001b[0m \u001b[1m0s\u001b[0m 38ms/step - loss: 8.6446 - mae: 2.5902 - val_loss: 5.3651 - val_mae: 1.9002\n",
            "Epoch 20/50\n",
            "\u001b[1m2/2\u001b[0m \u001b[32m━━━━━━━━━━━━━━━━━━━━\u001b[0m\u001b[37m\u001b[0m \u001b[1m0s\u001b[0m 43ms/step - loss: 8.2325 - mae: 2.5018 - val_loss: 5.1907 - val_mae: 1.8521\n",
            "Epoch 21/50\n",
            "\u001b[1m2/2\u001b[0m \u001b[32m━━━━━━━━━━━━━━━━━━━━\u001b[0m\u001b[37m\u001b[0m \u001b[1m0s\u001b[0m 38ms/step - loss: 8.2333 - mae: 2.5053 - val_loss: 5.0201 - val_mae: 1.8097\n",
            "Epoch 22/50\n",
            "\u001b[1m2/2\u001b[0m \u001b[32m━━━━━━━━━━━━━━━━━━━━\u001b[0m\u001b[37m\u001b[0m \u001b[1m0s\u001b[0m 33ms/step - loss: 8.1566 - mae: 2.4985 - val_loss: 4.8513 - val_mae: 1.7667\n",
            "Epoch 23/50\n",
            "\u001b[1m2/2\u001b[0m \u001b[32m━━━━━━━━━━━━━━━━━━━━\u001b[0m\u001b[37m\u001b[0m \u001b[1m0s\u001b[0m 31ms/step - loss: 7.7380 - mae: 2.3936 - val_loss: 4.6849 - val_mae: 1.7232\n",
            "Epoch 24/50\n",
            "\u001b[1m2/2\u001b[0m \u001b[32m━━━━━━━━━━━━━━━━━━━━\u001b[0m\u001b[37m\u001b[0m \u001b[1m0s\u001b[0m 31ms/step - loss: 7.5433 - mae: 2.3997 - val_loss: 4.5177 - val_mae: 1.6808\n",
            "Epoch 25/50\n",
            "\u001b[1m2/2\u001b[0m \u001b[32m━━━━━━━━━━━━━━━━━━━━\u001b[0m\u001b[37m\u001b[0m \u001b[1m0s\u001b[0m 31ms/step - loss: 7.2813 - mae: 2.3213 - val_loss: 4.3550 - val_mae: 1.6433\n",
            "Epoch 26/50\n",
            "\u001b[1m2/2\u001b[0m \u001b[32m━━━━━━━━━━━━━━━━━━━━\u001b[0m\u001b[37m\u001b[0m \u001b[1m0s\u001b[0m 31ms/step - loss: 7.1237 - mae: 2.2688 - val_loss: 4.1964 - val_mae: 1.6054\n",
            "Epoch 27/50\n",
            "\u001b[1m2/2\u001b[0m \u001b[32m━━━━━━━━━━━━━━━━━━━━\u001b[0m\u001b[37m\u001b[0m \u001b[1m0s\u001b[0m 32ms/step - loss: 6.8562 - mae: 2.2166 - val_loss: 4.0423 - val_mae: 1.5673\n",
            "Epoch 28/50\n",
            "\u001b[1m2/2\u001b[0m \u001b[32m━━━━━━━━━━━━━━━━━━━━\u001b[0m\u001b[37m\u001b[0m \u001b[1m0s\u001b[0m 31ms/step - loss: 7.5317 - mae: 2.3757 - val_loss: 3.8901 - val_mae: 1.5282\n",
            "Epoch 29/50\n",
            "\u001b[1m2/2\u001b[0m \u001b[32m━━━━━━━━━━━━━━━━━━━━\u001b[0m\u001b[37m\u001b[0m \u001b[1m0s\u001b[0m 36ms/step - loss: 7.0575 - mae: 2.2646 - val_loss: 3.7405 - val_mae: 1.4882\n",
            "Epoch 30/50\n",
            "\u001b[1m2/2\u001b[0m \u001b[32m━━━━━━━━━━━━━━━━━━━━\u001b[0m\u001b[37m\u001b[0m \u001b[1m0s\u001b[0m 32ms/step - loss: 6.1484 - mae: 2.0996 - val_loss: 3.5948 - val_mae: 1.4513\n",
            "Epoch 31/50\n",
            "\u001b[1m2/2\u001b[0m \u001b[32m━━━━━━━━━━━━━━━━━━━━\u001b[0m\u001b[37m\u001b[0m \u001b[1m0s\u001b[0m 31ms/step - loss: 6.0280 - mae: 2.0805 - val_loss: 3.4534 - val_mae: 1.4156\n",
            "Epoch 32/50\n",
            "\u001b[1m2/2\u001b[0m \u001b[32m━━━━━━━━━━━━━━━━━━━━\u001b[0m\u001b[37m\u001b[0m \u001b[1m0s\u001b[0m 32ms/step - loss: 5.8226 - mae: 2.0477 - val_loss: 3.3167 - val_mae: 1.3793\n",
            "Epoch 33/50\n",
            "\u001b[1m2/2\u001b[0m \u001b[32m━━━━━━━━━━━━━━━━━━━━\u001b[0m\u001b[37m\u001b[0m \u001b[1m0s\u001b[0m 43ms/step - loss: 6.0296 - mae: 2.1234 - val_loss: 3.1851 - val_mae: 1.3426\n",
            "Epoch 34/50\n",
            "\u001b[1m2/2\u001b[0m \u001b[32m━━━━━━━━━━━━━━━━━━━━\u001b[0m\u001b[37m\u001b[0m \u001b[1m0s\u001b[0m 40ms/step - loss: 5.6009 - mae: 1.9911 - val_loss: 3.0600 - val_mae: 1.3058\n",
            "Epoch 35/50\n",
            "\u001b[1m2/2\u001b[0m \u001b[32m━━━━━━━━━━━━━━━━━━━━\u001b[0m\u001b[37m\u001b[0m \u001b[1m0s\u001b[0m 31ms/step - loss: 5.5419 - mae: 2.0141 - val_loss: 2.9383 - val_mae: 1.2680\n",
            "Epoch 36/50\n",
            "\u001b[1m2/2\u001b[0m \u001b[32m━━━━━━━━━━━━━━━━━━━━\u001b[0m\u001b[37m\u001b[0m \u001b[1m0s\u001b[0m 35ms/step - loss: 5.2895 - mae: 1.9080 - val_loss: 2.8242 - val_mae: 1.2325\n",
            "Epoch 37/50\n",
            "\u001b[1m2/2\u001b[0m \u001b[32m━━━━━━━━━━━━━━━━━━━━\u001b[0m\u001b[37m\u001b[0m \u001b[1m0s\u001b[0m 31ms/step - loss: 4.8559 - mae: 1.8405 - val_loss: 2.7133 - val_mae: 1.2111\n",
            "Epoch 38/50\n",
            "\u001b[1m2/2\u001b[0m \u001b[32m━━━━━━━━━━━━━━━━━━━━\u001b[0m\u001b[37m\u001b[0m \u001b[1m0s\u001b[0m 32ms/step - loss: 5.3865 - mae: 1.9634 - val_loss: 2.6088 - val_mae: 1.1945\n",
            "Epoch 39/50\n",
            "\u001b[1m2/2\u001b[0m \u001b[32m━━━━━━━━━━━━━━━━━━━━\u001b[0m\u001b[37m\u001b[0m \u001b[1m0s\u001b[0m 31ms/step - loss: 4.5856 - mae: 1.7834 - val_loss: 2.5098 - val_mae: 1.1836\n",
            "Epoch 40/50\n",
            "\u001b[1m2/2\u001b[0m \u001b[32m━━━━━━━━━━━━━━━━━━━━\u001b[0m\u001b[37m\u001b[0m \u001b[1m0s\u001b[0m 31ms/step - loss: 4.6443 - mae: 1.7956 - val_loss: 2.4170 - val_mae: 1.1770\n",
            "Epoch 41/50\n",
            "\u001b[1m2/2\u001b[0m \u001b[32m━━━━━━━━━━━━━━━━━━━━\u001b[0m\u001b[37m\u001b[0m \u001b[1m0s\u001b[0m 32ms/step - loss: 4.7416 - mae: 1.8439 - val_loss: 2.3300 - val_mae: 1.1703\n",
            "Epoch 42/50\n",
            "\u001b[1m2/2\u001b[0m \u001b[32m━━━━━━━━━━━━━━━━━━━━\u001b[0m\u001b[37m\u001b[0m \u001b[1m0s\u001b[0m 31ms/step - loss: 4.3308 - mae: 1.7781 - val_loss: 2.2495 - val_mae: 1.1673\n",
            "Epoch 43/50\n",
            "\u001b[1m2/2\u001b[0m \u001b[32m━━━━━━━━━━━━━━━━━━━━\u001b[0m\u001b[37m\u001b[0m \u001b[1m0s\u001b[0m 36ms/step - loss: 4.0064 - mae: 1.6753 - val_loss: 2.1772 - val_mae: 1.1684\n",
            "Epoch 44/50\n",
            "\u001b[1m2/2\u001b[0m \u001b[32m━━━━━━━━━━━━━━━━━━━━\u001b[0m\u001b[37m\u001b[0m \u001b[1m0s\u001b[0m 32ms/step - loss: 4.0145 - mae: 1.6978 - val_loss: 2.1115 - val_mae: 1.1757\n",
            "Epoch 45/50\n",
            "\u001b[1m2/2\u001b[0m \u001b[32m━━━━━━━━━━━━━━━━━━━━\u001b[0m\u001b[37m\u001b[0m \u001b[1m0s\u001b[0m 42ms/step - loss: 4.0780 - mae: 1.7087 - val_loss: 2.0534 - val_mae: 1.1834\n",
            "Epoch 46/50\n",
            "\u001b[1m2/2\u001b[0m \u001b[32m━━━━━━━━━━━━━━━━━━━━\u001b[0m\u001b[37m\u001b[0m \u001b[1m0s\u001b[0m 34ms/step - loss: 4.1007 - mae: 1.6930 - val_loss: 2.0037 - val_mae: 1.1909\n",
            "Epoch 47/50\n",
            "\u001b[1m2/2\u001b[0m \u001b[32m━━━━━━━━━━━━━━━━━━━━\u001b[0m\u001b[37m\u001b[0m \u001b[1m0s\u001b[0m 32ms/step - loss: 3.8060 - mae: 1.6541 - val_loss: 1.9614 - val_mae: 1.1983\n",
            "Epoch 48/50\n",
            "\u001b[1m2/2\u001b[0m \u001b[32m━━━━━━━━━━━━━━━━━━━━\u001b[0m\u001b[37m\u001b[0m \u001b[1m0s\u001b[0m 36ms/step - loss: 3.3429 - mae: 1.5524 - val_loss: 1.9265 - val_mae: 1.2054\n",
            "Epoch 49/50\n",
            "\u001b[1m2/2\u001b[0m \u001b[32m━━━━━━━━━━━━━━━━━━━━\u001b[0m\u001b[37m\u001b[0m \u001b[1m0s\u001b[0m 31ms/step - loss: 3.5220 - mae: 1.6184 - val_loss: 1.8985 - val_mae: 1.2125\n",
            "Epoch 50/50\n",
            "\u001b[1m2/2\u001b[0m \u001b[32m━━━━━━━━━━━━━━━━━━━━\u001b[0m\u001b[37m\u001b[0m \u001b[1m0s\u001b[0m 32ms/step - loss: 3.1378 - mae: 1.5281 - val_loss: 1.8780 - val_mae: 1.2195\n",
            "\u001b[1m1/1\u001b[0m \u001b[32m━━━━━━━━━━━━━━━━━━━━\u001b[0m\u001b[37m\u001b[0m \u001b[1m0s\u001b[0m 29ms/step - loss: 3.5393 - mae: 1.5862\n",
            "\n",
            "Mean Absolute Error (MAE) pada data uji: 1.5862418413162231\n"
          ]
        }
      ]
    },
    {
      "cell_type": "code",
      "source": [
        "# Menyimpan arsitektur model dalam format JSON\n",
        "model_json = model.to_json()\n",
        "json_model_path = \"/mnt/data/tukang_rate_predictor_model.json\"\n",
        "with open(json_model_path, \"w\") as json_file:\n",
        "    json_file.write(model_json)\n",
        "print(f\"\\nArsitektur model disimpan di: {json_model_path}\")\n",
        "\n",
        "# Menyimpan bobot model dalam format HDF5 dengan ekstensi .weights.h5\n",
        "model_weights_path = \"/mnt/data/tukang_rate_predictor_weights.weights.h5\"\n",
        "model.save_weights(model_weights_path)\n",
        "print(f\"\\nBobot model disimpan di: {model_weights_path}\")\n"
      ],
      "metadata": {
        "colab": {
          "base_uri": "https://localhost:8080/"
        },
        "id": "w74DwPNQ54M3",
        "outputId": "f1f31ec1-e169-4dad-be3d-06fefd07aba6"
      },
      "execution_count": 29,
      "outputs": [
        {
          "output_type": "stream",
          "name": "stdout",
          "text": [
            "\n",
            "Arsitektur model disimpan di: /mnt/data/tukang_rate_predictor_model.json\n",
            "\n",
            "Bobot model disimpan di: /mnt/data/tukang_rate_predictor_weights.weights.h5\n"
          ]
        }
      ]
    },
    {
      "cell_type": "code",
      "source": [
        "# **Tukang dengan Rate Terbaik**\n",
        "best_rate_tukang = df.nlargest(5, 'Rate')  # Mengambil 5 tukang dengan rate terbaik\n"
      ],
      "metadata": {
        "id": "dMiLVls958RP"
      },
      "execution_count": 19,
      "outputs": []
    },
    {
      "cell_type": "code",
      "source": [
        "# **Tukang dengan Lokasi Terdekat dari Semarang**\n",
        "nearest_tukang = df[df['Lokasi_Tukang'] == 3]  # Asumsikan kode 3 adalah Semarang, sesuaikan jika perlu\n"
      ],
      "metadata": {
        "id": "jIlQPSuq5_eM"
      },
      "execution_count": 20,
      "outputs": []
    },
    {
      "cell_type": "code",
      "source": [
        "# **Membuat Peta dengan Folium**\n",
        "# Menentukan peta dengan pusat Semarang\n",
        "semarang_coords = [-6.9667, 110.4194]  # Koordinat Semarang (latitude, longitude)\n",
        "peta = folium.Map(location=semarang_coords, zoom_start=12)"
      ],
      "metadata": {
        "id": "7-AsF66g6Ey-"
      },
      "execution_count": 21,
      "outputs": []
    },
    {
      "cell_type": "code",
      "source": [
        "# Menambahkan tukang dengan lokasi terdekat ke peta\n",
        "for _, row in nearest_tukang.iterrows():\n",
        "    # Menambahkan marker untuk tukang yang terdekat\n",
        "    if row['Latitude'] and row['Longitude']:\n",
        "        folium.Marker([row['Latitude'], row['Longitude']],\n",
        "                      popup=f\"{row['Nama_Tukang']} - Rate: {row['Rate']}\").add_to(peta)\n"
      ],
      "metadata": {
        "id": "DHE03Tl46G7o"
      },
      "execution_count": 22,
      "outputs": []
    },
    {
      "cell_type": "code",
      "source": [
        "# Menyimpan peta ke file HTML\n",
        "peta_path = \"/mnt/data/tukang_location_map.html\"\n",
        "peta.save(peta_path)\n",
        "print(f\"Peta lokasi tukang telah disimpan di: {peta_path}\")\n"
      ],
      "metadata": {
        "colab": {
          "base_uri": "https://localhost:8080/"
        },
        "id": "OiJYj8aM6JqI",
        "outputId": "6bf882a6-144a-465c-9e45-9e67bd93204b"
      },
      "execution_count": 23,
      "outputs": [
        {
          "output_type": "stream",
          "name": "stdout",
          "text": [
            "Peta lokasi tukang telah disimpan di: /mnt/data/tukang_location_map.html\n"
          ]
        }
      ]
    },
    {
      "cell_type": "code",
      "source": [
        "# **Visualisasi Hasil**\n",
        "plt.figure(figsize=(14, 7))\n"
      ],
      "metadata": {
        "colab": {
          "base_uri": "https://localhost:8080/",
          "height": 52
        },
        "id": "8WjZWYot6MCP",
        "outputId": "f78938dc-3c04-47b6-ca95-09c6664a5feb"
      },
      "execution_count": 24,
      "outputs": [
        {
          "output_type": "execute_result",
          "data": {
            "text/plain": [
              "<Figure size 1400x700 with 0 Axes>"
            ]
          },
          "metadata": {},
          "execution_count": 24
        },
        {
          "output_type": "display_data",
          "data": {
            "text/plain": [
              "<Figure size 1400x700 with 0 Axes>"
            ]
          },
          "metadata": {}
        }
      ]
    },
    {
      "cell_type": "code",
      "source": [
        "# **Diagram Tukang dengan Rate Terbaik**\n",
        "plt.subplot(1, 2, 1)\n",
        "plt.bar(best_rate_tukang['Nama_Tukang'], best_rate_tukang['Rate'], color='skyblue')\n",
        "plt.title('Tukang dengan Rate Terbaik', fontsize=14)\n",
        "plt.xlabel('Nama Tukang', fontsize=12)\n",
        "plt.ylabel('Rate', fontsize=12)\n",
        "plt.xticks(rotation=45, ha='right')\n",
        "plt.tight_layout()\n"
      ],
      "metadata": {
        "colab": {
          "base_uri": "https://localhost:8080/",
          "height": 487
        },
        "id": "hTHau9Pp6N9L",
        "outputId": "cfaa83a0-5536-4b1e-fdff-141d61ebc658"
      },
      "execution_count": 25,
      "outputs": [
        {
          "output_type": "display_data",
          "data": {
            "text/plain": [
              "<Figure size 640x480 with 1 Axes>"
            ],
            "image/png": "[encoded data removed]"
          },
          "metadata": {}
        }
      ]
    },
    {
      "cell_type": "code",
      "source": [
        "# **Diagram Tukang dengan Lokasi Terdekat dari Semarang**\n",
        "plt.subplot(1, 2, 2)\n",
        "plt.bar(nearest_tukang['Nama_Tukang'], nearest_tukang['Rate'], color='lightgreen')\n",
        "plt.title('Tukang Terdekat dari Semarang', fontsize=14)\n",
        "plt.xlabel('Nama Tukang', fontsize=12)\n",
        "plt.ylabel('Rate', fontsize=12)\n",
        "plt.xticks(rotation=45, ha='right')\n",
        "plt.tight_layout()\n",
        "plt.show()"
      ],
      "metadata": {
        "colab": {
          "base_uri": "https://localhost:8080/",
          "height": 487
        },
        "id": "spYSXh_-6XBF",
        "outputId": "17a5547c-4fd5-4d81-9445-7b476f17eb62"
      },
      "execution_count": 26,
      "outputs": [
        {
          "output_type": "display_data",
          "data": {
            "text/plain": [
              "<Figure size 640x480 with 1 Axes>"
            ],
            "image/png": "[encoded data removed]"
          },
          "metadata": {}
        }
      ]
    },
    {
      "cell_type": "code",
      "source": [
        "# Prediksi Contoh\n",
        "example = [[0, 3, 1]]  # Contoh: Spesialis=0, Lokasi_Tukang=3, JenisKelamin_Tukang=1\n",
        "example_scaled = scaler.transform(example)\n",
        "predicted_rate = model.predict(example_scaled)\n",
        "print(f\"\\nPrediksi Rate untuk contoh: {predicted_rate[0][0]}\")\n"
      ],
      "metadata": {
        "colab": {
          "base_uri": "https://localhost:8080/"
        },
        "id": "yX36UPKm6ces",
        "outputId": "5a42e970-5937-41e6-8ac3-c362f25a9799"
      },
      "execution_count": 27,
      "outputs": [
        {
          "output_type": "stream",
          "name": "stdout",
          "text": [
            "\u001b[1m1/1\u001b[0m \u001b[32m━━━━━━━━━━━━━━━━━━━━\u001b[0m\u001b[37m\u001b[0m \u001b[1m0s\u001b[0m 50ms/step\n",
            "\n",
            "Prediksi Rate untuk contoh: 2.688011407852173\n"
          ]
        },
        {
          "output_type": "stream",
          "name": "stderr",
          "text": [
            "/usr/local/lib/python3.10/dist-packages/sklearn/base.py:493: UserWarning: X does not have valid feature names, but StandardScaler was fitted with feature names\n",
            "  warnings.warn(\n"
          ]
        }
      ]
    },
    {
      "cell_type": "markdown",
      "source": [],
      "metadata": {
        "id": "dPzuMNtr5HRN"
      }
    }
  ]
}